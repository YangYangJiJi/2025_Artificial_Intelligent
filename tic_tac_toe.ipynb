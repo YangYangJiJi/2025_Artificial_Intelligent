{
  "nbformat": 4,
  "nbformat_minor": 0,
  "metadata": {
    "colab": {
      "provenance": [],
      "include_colab_link": true
    },
    "kernelspec": {
      "name": "python3",
      "display_name": "Python 3"
    },
    "language_info": {
      "name": "python"
    }
  },
  "cells": [
    {
      "cell_type": "markdown",
      "metadata": {
        "id": "view-in-github",
        "colab_type": "text"
      },
      "source": [
        "<a href=\"https://colab.research.google.com/github/YangYangJiJi/2025_Artificial_Intelligent/blob/main/tic_tac_toe.ipynb\" target=\"_parent\"><img src=\"https://colab.research.google.com/assets/colab-badge.svg\" alt=\"Open In Colab\"/></a>"
      ]
    },
    {
      "cell_type": "code",
      "metadata": {
        "colab": {
          "base_uri": "https://localhost:8080/"
        },
        "id": "tm4jL439r-6q",
        "outputId": "0fd26065-103b-4ab9-a28d-bf5d1f2f137f"
      },
      "source": [
        "import os\n",
        "from google.colab import drive\n",
        "drive.mount('./MyDrive', force_remount=True)"
      ],
      "execution_count": null,
      "outputs": [
        {
          "output_type": "stream",
          "name": "stdout",
          "text": [
            "Mounted at ./MyDrive\n"
          ]
        }
      ]
    },
    {
      "cell_type": "code",
      "metadata": {
        "colab": {
          "base_uri": "https://localhost:8080/"
        },
        "id": "Babl1WsEzLCj",
        "outputId": "a359c663-8530-47c6-b3a3-900856889aab"
      },
      "source": [
        "cd MyDrive/MyDrive"
      ],
      "execution_count": null,
      "outputs": [
        {
          "output_type": "stream",
          "name": "stdout",
          "text": [
            "/content/MyDrive/MyDrive\n"
          ]
        }
      ]
    },
    {
      "cell_type": "code",
      "metadata": {
        "colab": {
          "base_uri": "https://localhost:8080/"
        },
        "id": "EIR3uHDmzPHL",
        "outputId": "dc7fd0b6-07a1-4ab9-d6a6-23bf21e6b49d"
      },
      "source": [
        "cd Tic-Tac-Toe"
      ],
      "execution_count": null,
      "outputs": [
        {
          "output_type": "stream",
          "name": "stdout",
          "text": [
            "[Errno 107] Transport endpoint is not connected: 'Tic-Tac-Toe'\n",
            "/content/MyDrive/MyDrive/Tic-Tac-Toe\n"
          ]
        }
      ]
    },
    {
      "cell_type": "code",
      "metadata": {
        "id": "NC6oX1lqsDbH",
        "colab": {
          "base_uri": "https://localhost:8080/"
        },
        "outputId": "822576eb-6e45-4b1f-9995-3521360a4038"
      },
      "source": [
        "\n",
        "# This is a variant of the Tic Tac Toe recipe given in the easyAI library\n",
        "\n",
        "from easyAI import TwoPlayersGame, AI_Player, Negamax\n",
        "from easyAI.Player import Human_Player\n",
        "from easyAI.AI.TT import *\n",
        "from easyAI.AI.DictTT import *\n",
        "\n",
        "\n",
        "class GameController(TwoPlayersGame):\n",
        "    def __init__(self, players):\n",
        "        # Define the players\n",
        "        self.players = players\n",
        "\n",
        "        # Define who starts the game\n",
        "        self.nplayer = 1\n",
        "\n",
        "        # Define the board\n",
        "        self.board = [0] * 9\n",
        "\n",
        "    # Define possible moves\n",
        "    def possible_moves(self):\n",
        "        return [a + 1 for a, b in enumerate(self.board) if b == 0]\n",
        "\n",
        "    # Make a move\n",
        "    def make_move(self, move):\n",
        "        self.board[int(move) - 1] = self.nplayer\n",
        "\n",
        "    # Does the opponent have three in a line?\n",
        "    def loss_condition(self):\n",
        "        possible_combinations = [[1, 2, 3], [4, 5, 6], [7, 8, 9],\n",
        "                                 [1, 4, 7], [2, 5, 8], [3, 6, 9], [1, 5, 9], [3, 5, 7]]\n",
        "\n",
        "        return any([all([(self.board[i - 1] == self.nopponent)\n",
        "                         for i in combination]) for combination in possible_combinations])\n",
        "\n",
        "        # Check if the game is over\n",
        "\n",
        "    def is_over(self):\n",
        "        return (self.possible_moves() == []) or self.loss_condition()\n",
        "\n",
        "    # Show current position\n",
        "    def show(self):\n",
        "        print('\\n' + '\\n'.join([' '.join([['.', 'O', 'X'][self.board[3 * j + i]]\n",
        "                                          for i in range(3)]) for j in range(3)]))\n",
        "\n",
        "    # Compute the score\n",
        "    def scoring(self):\n",
        "        return -100 if self.loss_condition() else 0\n",
        "\n",
        "    def ttentry(self):\n",
        "        return \"\".join([\".0X\"[i] for i in self.board])\n",
        "\n",
        "\n",
        "if __name__ == \"__main__\":\n",
        "    # Define the algorithm\n",
        "\n",
        "    use_tt = False\n",
        "    #첫번째 실험인 승률비교 실험에서는 계속 False\n",
        "    #두번째 실험에서는 use_tt를 false와 true 두가지로 두고 비교할거임\n",
        "\n",
        "    two_ai = False\n",
        "    handicap = 0\n",
        "\n",
        "    am = 11  #advance move\n",
        "\n",
        "    if use_tt:\n",
        "        print(\"practice game for preparing table.\")\n",
        "        table = TT()\n",
        "        ai1 = Negamax(am)  # boosted Negamax !\n",
        "        ai2 = Negamax(am, tt=table)  # boosted Negamax !\n",
        "        if two_ai:\n",
        "            GameController([AI_Player(ai1), AI_Player(ai2)]).play()\n",
        "        else:\n",
        "            GameController([Human_Player(), AI_Player(ai2)]).play()\n",
        "\n",
        "        print(\"Done.\")\n",
        "\n",
        "\n",
        "        # table.tofile('saved_tt.data')  # maybe save for later ?\n",
        "\n",
        "        # later...\n",
        "        # table = TT.fromfile('saved_tt.data')\n",
        "\n",
        "        # TT used negamax\n",
        "        algorithm2 = Negamax(am, tt=table)\n",
        "\n",
        "        t = 1 if am - handicap < 1 else am - handicap\n",
        "        algorithm = Negamax(t)\n",
        "\n",
        "    else:\n",
        "        # plain negamax\n",
        "\n",
        "        algorithm2 = Negamax(am)\n",
        "\n",
        "        t = 1 if am - handicap < 1 else am - handicap\n",
        "        algorithm = Negamax(t)\n",
        "\n",
        "    # Start the game\n",
        "    if two_ai:\n",
        "        GameController([AI_Player(algorithm), AI_Player(algorithm2)]).play()\n",
        "    else:\n",
        "        GameController([Human_Player(), AI_Player(algorithm2)]).play()\n"
      ],
      "execution_count": null,
      "outputs": [
        {
          "output_type": "stream",
          "name": "stdout",
          "text": [
            "\n",
            ". . .\n",
            ". . .\n",
            ". . .\n",
            "\n",
            "Player 1 what do you play ? 1\n",
            "\n",
            "Move #1: player 1 plays 1 :\n",
            "Timed : 1.87342803s\n",
            "\n",
            "O . .\n",
            ". . .\n",
            ". . .\n",
            "\n",
            "Move #2: player 2 plays 5 :\n",
            "Timed : 0.19846464s\n",
            "\n",
            "O . .\n",
            ". X .\n",
            ". . .\n",
            "\n",
            "Player 1 what do you play ? 4\n",
            "\n",
            "Move #3: player 1 plays 4 :\n",
            "Timed : 3.99886647s\n",
            "\n",
            "O . .\n",
            "O X .\n",
            ". . .\n",
            "\n",
            "Move #4: player 2 plays 7 :\n",
            "Timed : 0.01042918s\n",
            "\n",
            "O . .\n",
            "O X .\n",
            "X . .\n",
            "\n",
            "Player 1 what do you play ? 3\n",
            "\n",
            "Move #5: player 1 plays 3 :\n",
            "Timed : 3.18909370s\n",
            "\n",
            "O . O\n",
            "O X .\n",
            "X . .\n",
            "\n",
            "Move #6: player 2 plays 2 :\n",
            "Timed : 0.00096247s\n",
            "\n",
            "O X O\n",
            "O X .\n",
            "X . .\n",
            "\n",
            "Player 1 what do you play ? 8\n",
            "\n",
            "Move #7: player 1 plays 8 :\n",
            "Timed : 4.17376357s\n",
            "\n",
            "O X O\n",
            "O X .\n",
            "X O .\n",
            "\n",
            "Move #8: player 2 plays 6 :\n",
            "Timed : 0.00026448s\n",
            "\n",
            "O X O\n",
            "O X X\n",
            "X O .\n",
            "\n",
            "Player 1 what do you play ? 9\n",
            "\n",
            "Move #9: player 1 plays 9 :\n",
            "Timed : 2.63095397s\n",
            "\n",
            "O X O\n",
            "O X X\n",
            "X O O\n"
          ]
        }
      ]
    },
    {
      "cell_type": "markdown",
      "source": [],
      "metadata": {
        "id": "5hlz_2R5Gamn"
      }
    }
  ]
}